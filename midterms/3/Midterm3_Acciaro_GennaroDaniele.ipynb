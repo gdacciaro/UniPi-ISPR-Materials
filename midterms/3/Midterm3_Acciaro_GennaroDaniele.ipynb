{
 "cells": [
  {
   "cell_type": "markdown",
   "id": "a96610c5",
   "metadata": {
    "id": "a96610c5",
    "papermill": {
     "duration": 0.026079,
     "end_time": "2022-05-13T16:46:01.149584",
     "exception": false,
     "start_time": "2022-05-13T16:46:01.123505",
     "status": "completed"
    },
    "tags": [],
    "pycharm": {
     "name": "#%% md\n"
    }
   },
   "source": [
    "#ISPR - Midterm 3 - Assignment 2\n",
    "\n",
    "##Acciaro Gennaro Daniele\n"
   ]
  },
  {
   "cell_type": "markdown",
   "id": "5bd8df97",
   "metadata": {
    "id": "5bd8df97",
    "papermill": {
     "duration": 0.022772,
     "end_time": "2022-05-13T16:46:01.195116",
     "exception": false,
     "start_time": "2022-05-13T16:46:01.172344",
     "status": "completed"
    },
    "tags": [],
    "pycharm": {
     "name": "#%% md\n"
    }
   },
   "source": [
    "## Assignment\n",
    "DATASET (CIFAR-10): https://www.cs.toronto.edu/~kriz/cifar.html\n",
    "\n",
    "Implement your own convolutional network, deciding how many layers, the type of layers and how they are interleaved, the type of pooling, the use of residual connections, etc. Discuss why you made each choice a provide performance results of your CNN on CIFAR-10.  \n",
    "\n",
    "Now that your network is trained, you might try an adversarial attack to it. Try the simple Fast Gradient Sign method, generating one (or more) adversarial examples starting from one (or more) CIFAR-10 test images. It is up to you to decide if you want to implement the attack on your own or use one of the available libraries (e.g. foolbox,  CleverHans, ...). Display the original image, the adversarial noise and the final adversarial example.  \n"
   ]
  },
  {
   "cell_type": "markdown",
   "id": "3aedcf1d",
   "metadata": {
    "id": "3aedcf1d",
    "papermill": {
     "duration": 0.022794,
     "end_time": "2022-05-13T16:46:01.240490",
     "exception": false,
     "start_time": "2022-05-13T16:46:01.217696",
     "status": "completed"
    },
    "tags": [],
    "pycharm": {
     "name": "#%% md\n"
    }
   },
   "source": [
    "#Setup\n",
    "These blocks take care of downloading the dataset, importing the necessary libraries and defining some utility functions."
   ]
  },
  {
   "cell_type": "code",
   "execution_count": null,
   "id": "ed33c90d",
   "metadata": {
    "execution": {
     "iopub.execute_input": "2022-05-13T16:46:01.287442Z",
     "iopub.status.busy": "2022-05-13T16:46:01.287084Z",
     "iopub.status.idle": "2022-05-13T16:46:22.837991Z",
     "shell.execute_reply": "2022-05-13T16:46:22.837090Z"
    },
    "id": "ed33c90d",
    "outputId": "44a16835-5a04-4442-bb6f-7cd348e7617a",
    "papermill": {
     "duration": 21.576843,
     "end_time": "2022-05-13T16:46:22.840312",
     "exception": false,
     "start_time": "2022-05-13T16:46:01.263469",
     "status": "completed"
    },
    "tags": [],
    "pycharm": {
     "name": "#%%\n"
    }
   },
   "outputs": [
    {
     "name": "stdout",
     "output_type": "stream",
     "text": [
      "Requirement already satisfied: cleverhans in /opt/conda/lib/python3.7/site-packages (4.0.0)\r\n",
      "Requirement already satisfied: mnist in /opt/conda/lib/python3.7/site-packages (from cleverhans) (0.2.2)\r\n",
      "Requirement already satisfied: joblib in /opt/conda/lib/python3.7/site-packages (from cleverhans) (1.0.1)\r\n",
      "Requirement already satisfied: nose in /opt/conda/lib/python3.7/site-packages (from cleverhans) (1.3.7)\r\n",
      "Requirement already satisfied: matplotlib in /opt/conda/lib/python3.7/site-packages (from cleverhans) (3.5.2)\r\n",
      "Requirement already satisfied: easydict in /opt/conda/lib/python3.7/site-packages (from cleverhans) (1.9)\r\n",
      "Requirement already satisfied: scipy in /opt/conda/lib/python3.7/site-packages (from cleverhans) (1.7.3)\r\n",
      "Requirement already satisfied: pycodestyle in /opt/conda/lib/python3.7/site-packages (from cleverhans) (2.8.0)\r\n",
      "Requirement already satisfied: tensorflow-probability in /opt/conda/lib/python3.7/site-packages (from cleverhans) (0.14.1)\r\n",
      "Requirement already satisfied: numpy in /opt/conda/lib/python3.7/site-packages (from cleverhans) (1.21.6)\r\n",
      "Requirement already satisfied: absl-py in /opt/conda/lib/python3.7/site-packages (from cleverhans) (1.0.0)\r\n",
      "Requirement already satisfied: six in /opt/conda/lib/python3.7/site-packages (from cleverhans) (1.16.0)\r\n",
      "Requirement already satisfied: python-dateutil>=2.7 in /opt/conda/lib/python3.7/site-packages (from matplotlib->cleverhans) (2.8.2)\r\n",
      "Requirement already satisfied: packaging>=20.0 in /opt/conda/lib/python3.7/site-packages (from matplotlib->cleverhans) (21.3)\r\n",
      "Requirement already satisfied: cycler>=0.10 in /opt/conda/lib/python3.7/site-packages (from matplotlib->cleverhans) (0.11.0)\r\n",
      "Requirement already satisfied: pillow>=6.2.0 in /opt/conda/lib/python3.7/site-packages (from matplotlib->cleverhans) (9.0.1)\r\n",
      "Requirement already satisfied: fonttools>=4.22.0 in /opt/conda/lib/python3.7/site-packages (from matplotlib->cleverhans) (4.30.0)\r\n",
      "Requirement already satisfied: kiwisolver>=1.0.1 in /opt/conda/lib/python3.7/site-packages (from matplotlib->cleverhans) (1.4.0)\r\n",
      "Requirement already satisfied: pyparsing>=2.2.1 in /opt/conda/lib/python3.7/site-packages (from matplotlib->cleverhans) (3.0.7)\r\n",
      "Requirement already satisfied: decorator in /opt/conda/lib/python3.7/site-packages (from tensorflow-probability->cleverhans) (5.1.1)\r\n",
      "Requirement already satisfied: gast>=0.3.2 in /opt/conda/lib/python3.7/site-packages (from tensorflow-probability->cleverhans) (0.4.0)\r\n",
      "Requirement already satisfied: dm-tree in /opt/conda/lib/python3.7/site-packages (from tensorflow-probability->cleverhans) (0.1.6)\r\n",
      "Requirement already satisfied: cloudpickle>=1.3 in /opt/conda/lib/python3.7/site-packages (from tensorflow-probability->cleverhans) (2.0.0)\r\n",
      "Requirement already satisfied: typing-extensions in /opt/conda/lib/python3.7/site-packages (from kiwisolver>=1.0.1->matplotlib->cleverhans) (4.2.0)\r\n",
      "\u001B[33mWARNING: Running pip as the 'root' user can result in broken permissions and conflicting behaviour with the system package manager. It is recommended to use a virtual environment instead: https://pip.pypa.io/warnings/venv\u001B[0m\u001B[33m\r\n",
      "\u001B[0m\u001B[33mWARNING: Running pip as the 'root' user can result in broken permissions and conflicting behaviour with the system package manager. It is recommended to use a virtual environment instead: https://pip.pypa.io/warnings/venv\u001B[0m\u001B[33m\r\n",
      "\u001B[0m"
     ]
    }
   ],
   "source": [
    "!pip install cleverhans\n",
    "!pip install -q -U keras-tuner"
   ]
  },
  {
   "cell_type": "code",
   "execution_count": null,
   "id": "47f5c6b1",
   "metadata": {
    "execution": {
     "iopub.execute_input": "2022-05-13T16:46:22.893671Z",
     "iopub.status.busy": "2022-05-13T16:46:22.893032Z",
     "iopub.status.idle": "2022-05-13T16:46:22.900274Z",
     "shell.execute_reply": "2022-05-13T16:46:22.899587Z"
    },
    "id": "47f5c6b1",
    "papermill": {
     "duration": 0.036101,
     "end_time": "2022-05-13T16:46:22.901933",
     "exception": false,
     "start_time": "2022-05-13T16:46:22.865832",
     "status": "completed"
    },
    "tags": [],
    "pycharm": {
     "name": "#%%\n"
    }
   },
   "outputs": [],
   "source": [
    "#Utilities:\n",
    "def show_imgs(list_of_pics, list_of_titles=None):\n",
    "    size = len(list_of_pics)\n",
    "    plt.figure(figsize=(size*5, 16))\n",
    "\n",
    "    for i, pic in enumerate(list_of_pics):\n",
    "        plt.subplot(1, size, i+1)\n",
    "        plt.imshow(scaleTo255(pic))\n",
    "        if(list_of_titles is not None and list_of_titles[i] is not None):\n",
    "            plt.title(list_of_titles[i])\n",
    "        plt.axis(\"off\")\n",
    "   \n",
    "    plt.show()\n",
    "\n",
    "def scaleTo255(img):\n",
    "    \"\"\"This function scales a matrix of floats (from 0 to 1) into a integer (from 0 to 255)\"\"\"\n",
    "    img = ((img - img.min()) * (1/(img.max() - img.min()) * 255)).astype('uint8')\n",
    "    return img"
   ]
  },
  {
   "cell_type": "code",
   "execution_count": null,
   "id": "73690233",
   "metadata": {
    "execution": {
     "iopub.execute_input": "2022-05-13T16:46:22.952017Z",
     "iopub.status.busy": "2022-05-13T16:46:22.951455Z",
     "iopub.status.idle": "2022-05-13T16:46:28.583465Z",
     "shell.execute_reply": "2022-05-13T16:46:28.582741Z"
    },
    "id": "73690233",
    "papermill": {
     "duration": 5.659161,
     "end_time": "2022-05-13T16:46:28.585476",
     "exception": false,
     "start_time": "2022-05-13T16:46:22.926315",
     "status": "completed"
    },
    "tags": [],
    "pycharm": {
     "name": "#%%\n"
    }
   },
   "outputs": [],
   "source": [
    "import numpy as np\n",
    "import tensorflow as tf\n",
    "import keras_tuner as kt\n",
    "from tensorflow.keras import datasets, layers, models\n",
    "import matplotlib.pyplot as plt\n",
    "from tensorflow.keras import Model\n",
    "from tensorflow.keras.layers import BatchNormalization, Conv2D, MaxPooling2D, Dropout,Flatten, Dense\n",
    "from keras.layers import Input, concatenate \n",
    "from keras.models import Model\n",
    "\n",
    "from cleverhans.tf2.attacks.fast_gradient_method import fast_gradient_method"
   ]
  },
  {
   "cell_type": "code",
   "execution_count": null,
   "id": "9d00baa9",
   "metadata": {
    "execution": {
     "iopub.execute_input": "2022-05-13T16:46:28.636375Z",
     "iopub.status.busy": "2022-05-13T16:46:28.636142Z",
     "iopub.status.idle": "2022-05-13T16:46:28.640168Z",
     "shell.execute_reply": "2022-05-13T16:46:28.639366Z"
    },
    "id": "9d00baa9",
    "papermill": {
     "duration": 0.03076,
     "end_time": "2022-05-13T16:46:28.641771",
     "exception": false,
     "start_time": "2022-05-13T16:46:28.611011",
     "status": "completed"
    },
    "tags": [],
    "pycharm": {
     "name": "#%%\n"
    }
   },
   "outputs": [],
   "source": [
    "labels = ['airplane', 'automobile', 'bird', 'cat', 'deer', 'dog', 'frog', 'horse', 'ship', 'truck']"
   ]
  },
  {
   "cell_type": "code",
   "execution_count": null,
   "id": "56b779b6",
   "metadata": {
    "execution": {
     "iopub.execute_input": "2022-05-13T16:46:28.691772Z",
     "iopub.status.busy": "2022-05-13T16:46:28.691587Z",
     "iopub.status.idle": "2022-05-13T16:46:42.871557Z",
     "shell.execute_reply": "2022-05-13T16:46:42.870561Z"
    },
    "id": "56b779b6",
    "papermill": {
     "duration": 14.207905,
     "end_time": "2022-05-13T16:46:42.873849",
     "exception": false,
     "start_time": "2022-05-13T16:46:28.665944",
     "status": "completed"
    },
    "tags": [],
    "outputId": "fba54d4f-0c38-4272-a6d1-40ba4db74622",
    "pycharm": {
     "name": "#%%\n"
    }
   },
   "outputs": [
    {
     "name": "stdout",
     "output_type": "stream",
     "text": [
      "Downloading data from https://www.cs.toronto.edu/~kriz/cifar-10-python.tar.gz\n",
      "170500096/170498071 [==============================] - 11s 0us/step\n",
      "170508288/170498071 [==============================] - 11s 0us/step\n"
     ]
    }
   ],
   "source": [
    "(X_train, y_train), (X_test, y_test) = datasets.cifar10.load_data()\n",
    "\n",
    "# Normalize pixel values to be between 0 and 1\n",
    "X_train, X_test = X_train / 255.0, X_test / 255.0\n",
    "\n",
    "from sklearn.model_selection import train_test_split\n",
    "X_train, X_val, y_train, y_val = train_test_split(X_train, y_train, test_size=0.2)"
   ]
  },
  {
   "cell_type": "markdown",
   "id": "d9a921ab",
   "metadata": {
    "id": "d9a921ab",
    "papermill": {
     "duration": 0.057898,
     "end_time": "2022-05-13T16:46:42.993924",
     "exception": false,
     "start_time": "2022-05-13T16:46:42.936026",
     "status": "completed"
    },
    "tags": [],
    "pycharm": {
     "name": "#%% md\n"
    }
   },
   "source": [
    "# How did I solve the problem?\n",
    "\n",
    "To solve this task, I split the problem into two phases. The first phase is to define the best architecture that can best classify the dataset. \n",
    "The second phase, instead, is to define an adversarial attack to reduce the accuracy of the model, although to the human eye, the dataset remains the same."
   ]
  },
  {
   "cell_type": "markdown",
   "id": "d2477656",
   "metadata": {
    "id": "d2477656",
    "papermill": {
     "duration": 0.057411,
     "end_time": "2022-05-13T16:46:43.109344",
     "exception": false,
     "start_time": "2022-05-13T16:46:43.051933",
     "status": "completed"
    },
    "tags": [],
    "pycharm": {
     "name": "#%% md\n"
    }
   },
   "source": [
    "# Phase 1 - Finding the architecture\n",
    "\n",
    "This phase is dedicated to the research of the best model to classify correctly the dataset. The model selection was done through the library Keras Tuner, but I added bias on the architecture to get better results. "
   ]
  },
  {
   "cell_type": "markdown",
   "id": "7bf0d5c7",
   "metadata": {
    "id": "7bf0d5c7",
    "papermill": {
     "duration": 0.05734,
     "end_time": "2022-05-13T16:46:43.224195",
     "exception": false,
     "start_time": "2022-05-13T16:46:43.166855",
     "status": "completed"
    },
    "tags": [],
    "pycharm": {
     "name": "#%% md\n"
    }
   },
   "source": [
    "### Loss function"
   ]
  },
  {
   "cell_type": "markdown",
   "id": "c825e3b4",
   "metadata": {
    "id": "c825e3b4",
    "papermill": {
     "duration": 0.057506,
     "end_time": "2022-05-13T16:46:43.339688",
     "exception": false,
     "start_time": "2022-05-13T16:46:43.282182",
     "status": "completed"
    },
    "tags": [],
    "pycharm": {
     "name": "#%% md\n"
    }
   },
   "source": [
    "The best choice of loss for a multiclass classification problem is Cross Entropy.\n",
    "\n",
    "In particular, I used the [SparseCategoricalCrossentropy](https://keras.io/api/losses/probabilistic_losses/#sparsecategoricalcrossentropy-class) because the dataset is not 1-hot encoded. This loss requires the softmax activaction function in the output layer."
   ]
  },
  {
   "cell_type": "code",
   "execution_count": null,
   "id": "10b88717",
   "metadata": {
    "execution": {
     "iopub.execute_input": "2022-05-13T16:46:43.464529Z",
     "iopub.status.busy": "2022-05-13T16:46:43.464256Z",
     "iopub.status.idle": "2022-05-13T16:46:43.468119Z",
     "shell.execute_reply": "2022-05-13T16:46:43.467464Z"
    },
    "id": "10b88717",
    "papermill": {
     "duration": 0.067925,
     "end_time": "2022-05-13T16:46:43.469818",
     "exception": false,
     "start_time": "2022-05-13T16:46:43.401893",
     "status": "completed"
    },
    "tags": [],
    "pycharm": {
     "name": "#%%\n"
    }
   },
   "outputs": [],
   "source": [
    "theLoss = tf.keras.losses.SparseCategoricalCrossentropy(from_logits=True)"
   ]
  },
  {
   "cell_type": "markdown",
   "id": "ad66e28c",
   "metadata": {
    "id": "ad66e28c",
    "papermill": {
     "duration": 0.057778,
     "end_time": "2022-05-13T16:46:43.586341",
     "exception": false,
     "start_time": "2022-05-13T16:46:43.528563",
     "status": "completed"
    },
    "tags": [],
    "pycharm": {
     "name": "#%% md\n"
    }
   },
   "source": [
    "### My architectural's biases"
   ]
  },
  {
   "cell_type": "markdown",
   "id": "27683b07",
   "metadata": {
    "id": "27683b07",
    "papermill": {
     "duration": 0.057322,
     "end_time": "2022-05-13T16:46:43.701966",
     "exception": false,
     "start_time": "2022-05-13T16:46:43.644644",
     "status": "completed"
    },
    "tags": [],
    "pycharm": {
     "name": "#%% md\n"
    }
   },
   "source": [
    "The hyperparameters of my architecture has been selected through a Model Selection phase (performed by Keras Tuner). Despite this, I had to implement some bias on it, to reduce the computation time of model selection.\n",
    "\n",
    "Among the most important choices that I had to make, we find:\n",
    "\n",
    "1. Three-level convolution architecture\n",
    "\n",
    "  From the first empirical results, I noticed that a CNN with 3 levels of convolution gave me better results. Therefore, I implemented 3 levels of 2d-convolution and the parameters of these levels were selected by Keras Tuner.\n",
    "\n",
    "2. Dropout\n",
    "\n",
    "  Reading the paper [\"Analysis on the Dropout Effect in Convolutional\n",
    "Neural Networks\"](http://mipal.snu.ac.kr/images/1/16/Dropout_ACCV2016.pdf) with particular reference to Table 6, I thought that a good way to improve the accuracy of the model was to implement dropout levels. \n",
    "\n",
    "3. Batch Normalization\n",
    "\n",
    "  Batch normalization is a tecnique useful to speed up tranining and to improve performance. For these reasons I have added between each layer of convolution and pooling, a layer of normalization.\n",
    "\n",
    "4. The choice of pooling\n",
    "\n",
    "  MaxPooling is useful when there are very bright pixels on dark backgrounds (e.g. the MNIST dataset). However, this is not our case, so I decided to use Average pooling.\n",
    "\n",
    "5. Skipping Connection\n",
    "\n",
    "  Referring to the ResNet archiecture, the technique of skipping connections could improve the performance of a CNN, because it reduces the effect of the vanish gradient.\n",
    "  In this case I decided to compare the same archiecture both skipping connections and not doing it, then comparing the results."
   ]
  },
  {
   "cell_type": "markdown",
   "id": "b0f66b18",
   "metadata": {
    "id": "b0f66b18",
    "papermill": {
     "duration": 0.058873,
     "end_time": "2022-05-13T16:46:43.819222",
     "exception": false,
     "start_time": "2022-05-13T16:46:43.760349",
     "status": "completed"
    },
    "tags": [],
    "pycharm": {
     "name": "#%% md\n"
    }
   },
   "source": [
    "### Model Selection with Keras Tuner (with skipping connection)"
   ]
  },
  {
   "cell_type": "code",
   "execution_count": null,
   "id": "f2d52ba9",
   "metadata": {
    "execution": {
     "iopub.execute_input": "2022-05-13T16:46:43.938087Z",
     "iopub.status.busy": "2022-05-13T16:46:43.937843Z",
     "iopub.status.idle": "2022-05-13T16:46:43.941595Z",
     "shell.execute_reply": "2022-05-13T16:46:43.940921Z"
    },
    "id": "f2d52ba9",
    "papermill": {
     "duration": 0.065092,
     "end_time": "2022-05-13T16:46:43.943238",
     "exception": false,
     "start_time": "2022-05-13T16:46:43.878146",
     "status": "completed"
    },
    "tags": [],
    "pycharm": {
     "name": "#%%\n"
    }
   },
   "outputs": [],
   "source": [
    "training_epochs = 50\n",
    "random_search_trial = 6\n",
    "tuner_epochs = training_epochs\n",
    "f_act = \"relu\""
   ]
  },
  {
   "cell_type": "markdown",
   "id": "b426e51b",
   "metadata": {
    "id": "b426e51b",
    "papermill": {
     "duration": 0.058325,
     "end_time": "2022-05-13T16:46:44.058981",
     "exception": false,
     "start_time": "2022-05-13T16:46:44.000656",
     "status": "completed"
    },
    "tags": [],
    "pycharm": {
     "name": "#%% md\n"
    }
   },
   "source": [
    "I made two model selections (through two different Random Searches) using the native Keras framework to hyperparameters search : Keras Tuner.\n",
    "\n",
    "The first Random Search uses an architecture with connection skips, while the second does not."
   ]
  },
  {
   "cell_type": "code",
   "execution_count": null,
   "id": "0807fedf",
   "metadata": {
    "execution": {
     "iopub.execute_input": "2022-05-13T16:46:44.175168Z",
     "iopub.status.busy": "2022-05-13T16:46:44.174938Z",
     "iopub.status.idle": "2022-05-13T16:46:44.186499Z",
     "shell.execute_reply": "2022-05-13T16:46:44.185761Z"
    },
    "id": "0807fedf",
    "papermill": {
     "duration": 0.071479,
     "end_time": "2022-05-13T16:46:44.188137",
     "exception": false,
     "start_time": "2022-05-13T16:46:44.116658",
     "status": "completed"
    },
    "tags": [],
    "pycharm": {
     "name": "#%%\n"
    }
   },
   "outputs": [],
   "source": [
    "def model_skip_connection_hypothesis(hp):\n",
    "    input_layer = Input(shape=(32,32,3))\n",
    "\n",
    "    #Layer 1:\n",
    "    x =  Conv2D(\n",
    "          filters=hp.Int('conv_1_filter', min_value=48, max_value=128, step=4),\n",
    "          kernel_size=hp.Choice('conv_1_kernel', values = [3,5,8]),\n",
    "          activation=f_act,\n",
    "          input_shape=(32,32,3))(input_layer)\n",
    "    x = BatchNormalization()(x)\n",
    "    x = MaxPooling2D((2, 2))(x)\n",
    "\n",
    "    x = Dropout(rate = hp.Choice('dropout_1_rate', values = [0.1,0.2,0.5]))(x)\n",
    "    #Layer 2:\n",
    "    x =  Conv2D(\n",
    "          filters=hp.Int('conv_2_filter', min_value=16, max_value=128, step=4),\n",
    "          kernel_size=hp.Choice('conv_2_kernel', values = [2,3]),\n",
    "          activation=f_act)(x)\n",
    "    x = BatchNormalization()(x)\n",
    "    x = MaxPooling2D((2, 2))(x)\n",
    "\n",
    "    x = Dropout(rate = hp.Choice('dropout_2_rate', values = [0.1,0.2,0.5]))(x)\n",
    "    \n",
    "    # Layer 3\n",
    "    x =  Conv2D(\n",
    "          filters=hp.Int('conv_3_filter', min_value=8, max_value=128, step=4),\n",
    "          kernel_size=hp.Choice('conv_3_kernel', values = [2,3]),\n",
    "          activation=f_act)(x)\n",
    "    x = BatchNormalization()(x)\n",
    "    x = MaxPooling2D((2, 2))(x)\n",
    "\n",
    "    x = Dropout(rate = hp.Choice('dropout_3_rate', values = [0.1,0.2,0.5]))(x)\n",
    "\n",
    "\n",
    "    x = Flatten()(x)\n",
    "    x = Dense(\n",
    "          units=hp.Int('dense_1_units', min_value=16, max_value=128, step=4),\n",
    "          activation='relu'\n",
    "      )(x)\n",
    "\n",
    "    output_layer = Dense(10, activation=\"softmax\")(x)\n",
    "\n",
    "    model = Model(inputs = input_layer, outputs = output_layer)\n",
    "    model.compile(optimizer=\"adam\",\n",
    "                loss=theLoss,\n",
    "                metrics=['accuracy'])\n",
    "    return model"
   ]
  },
  {
   "cell_type": "code",
   "execution_count": null,
   "id": "1ad3f68a",
   "metadata": {
    "execution": {
     "iopub.execute_input": "2022-05-13T16:46:44.304206Z",
     "iopub.status.busy": "2022-05-13T16:46:44.303986Z",
     "iopub.status.idle": "2022-05-13T17:11:17.625002Z",
     "shell.execute_reply": "2022-05-13T17:11:17.623167Z"
    },
    "id": "1ad3f68a",
    "outputId": "336b8c0f-c07e-4e12-d296-4aefb1d92900",
    "papermill": {
     "duration": 1473.381725,
     "end_time": "2022-05-13T17:11:17.627354",
     "exception": false,
     "start_time": "2022-05-13T16:46:44.245629",
     "status": "completed"
    },
    "tags": [],
    "pycharm": {
     "name": "#%%\n"
    }
   },
   "outputs": [
    {
     "name": "stdout",
     "output_type": "stream",
     "text": [
      "Trial 6 Complete [00h 03m 23s]\n",
      "val_accuracy: 0.7581250071525574\n",
      "\n",
      "Best val_accuracy So Far: 0.7581250071525574\n",
      "Total elapsed time: 00h 24m 30s\n"
     ]
    }
   ],
   "source": [
    "!!rm -rf keras_tuner_folder_skip\n",
    "\n",
    "tuner = kt.RandomSearch(model_skip_connection_hypothesis,\n",
    "                    objective='val_accuracy',\n",
    "                    max_trials = random_search_trial,\n",
    "                    directory='keras_tuner_folder_skip',\n",
    "                    project_name='midterm3')\n",
    "\n",
    "tuner.search(X_train, y_train, epochs=training_epochs, validation_split=0.2)\n",
    "\n",
    "best_hps=tuner.get_best_hyperparameters(num_trials=1)[0]"
   ]
  },
  {
   "cell_type": "code",
   "execution_count": null,
   "id": "51a0ae10",
   "metadata": {
    "execution": {
     "iopub.execute_input": "2022-05-13T17:11:17.747976Z",
     "iopub.status.busy": "2022-05-13T17:11:17.747778Z",
     "iopub.status.idle": "2022-05-13T17:15:42.824006Z",
     "shell.execute_reply": "2022-05-13T17:15:42.823141Z"
    },
    "id": "51a0ae10",
    "outputId": "50045686-6669-4311-c207-484996cb1800",
    "papermill": {
     "duration": 266.336446,
     "end_time": "2022-05-13T17:15:44.024741",
     "exception": false,
     "start_time": "2022-05-13T17:11:17.688295",
     "status": "completed"
    },
    "tags": [],
    "pycharm": {
     "name": "#%%\n"
    }
   },
   "outputs": [
    {
     "name": "stdout",
     "output_type": "stream",
     "text": [
      "Epoch 1/50\n",
      "1250/1250 [==============================] - 6s 4ms/step - loss: 0.4926 - accuracy: 0.8357 - val_loss: 1.0525 - val_accuracy: 0.7163\n",
      "Epoch 2/50\n",
      "1250/1250 [==============================] - 5s 4ms/step - loss: 0.4678 - accuracy: 0.8395 - val_loss: 0.8528 - val_accuracy: 0.7576\n",
      "Epoch 3/50\n",
      "1250/1250 [==============================] - 5s 4ms/step - loss: 0.4540 - accuracy: 0.8404 - val_loss: 0.9037 - val_accuracy: 0.7466\n",
      "Epoch 4/50\n",
      "1250/1250 [==============================] - 5s 4ms/step - loss: 0.4497 - accuracy: 0.8436 - val_loss: 0.9908 - val_accuracy: 0.7274\n",
      "Epoch 5/50\n",
      "1250/1250 [==============================] - 5s 4ms/step - loss: 0.4383 - accuracy: 0.8477 - val_loss: 0.7890 - val_accuracy: 0.7570\n",
      "Epoch 6/50\n",
      "1250/1250 [==============================] - 5s 4ms/step - loss: 0.4297 - accuracy: 0.8492 - val_loss: 0.8358 - val_accuracy: 0.7606\n",
      "Epoch 7/50\n",
      "1250/1250 [==============================] - 5s 4ms/step - loss: 0.4291 - accuracy: 0.8494 - val_loss: 0.8707 - val_accuracy: 0.7537\n",
      "Epoch 8/50\n",
      "1250/1250 [==============================] - 5s 4ms/step - loss: 0.4278 - accuracy: 0.8478 - val_loss: 1.0823 - val_accuracy: 0.7136\n",
      "Epoch 9/50\n",
      "1250/1250 [==============================] - 5s 4ms/step - loss: 0.4159 - accuracy: 0.8522 - val_loss: 0.9318 - val_accuracy: 0.7520\n",
      "Epoch 10/50\n",
      "1250/1250 [==============================] - 5s 4ms/step - loss: 0.4133 - accuracy: 0.8538 - val_loss: 0.7838 - val_accuracy: 0.7736\n",
      "Epoch 11/50\n",
      "1250/1250 [==============================] - 5s 4ms/step - loss: 0.4070 - accuracy: 0.8560 - val_loss: 0.8367 - val_accuracy: 0.7582\n",
      "Epoch 12/50\n",
      "1250/1250 [==============================] - 5s 4ms/step - loss: 0.4026 - accuracy: 0.8590 - val_loss: 0.8178 - val_accuracy: 0.7657\n",
      "Epoch 13/50\n",
      "1250/1250 [==============================] - 5s 4ms/step - loss: 0.3990 - accuracy: 0.8579 - val_loss: 0.8579 - val_accuracy: 0.7660\n",
      "Epoch 14/50\n",
      "1250/1250 [==============================] - 5s 4ms/step - loss: 0.3996 - accuracy: 0.8565 - val_loss: 0.8850 - val_accuracy: 0.7584\n",
      "Epoch 15/50\n",
      "1250/1250 [==============================] - 5s 4ms/step - loss: 0.3865 - accuracy: 0.8615 - val_loss: 0.9339 - val_accuracy: 0.7542\n",
      "Epoch 16/50\n",
      "1250/1250 [==============================] - 5s 4ms/step - loss: 0.3860 - accuracy: 0.8620 - val_loss: 0.8512 - val_accuracy: 0.7682\n",
      "Epoch 17/50\n",
      "1250/1250 [==============================] - 5s 4ms/step - loss: 0.3828 - accuracy: 0.8630 - val_loss: 0.9004 - val_accuracy: 0.7532\n",
      "Epoch 18/50\n",
      "1250/1250 [==============================] - 5s 4ms/step - loss: 0.3788 - accuracy: 0.8653 - val_loss: 1.0918 - val_accuracy: 0.7093\n",
      "Epoch 19/50\n",
      "1250/1250 [==============================] - 5s 4ms/step - loss: 0.3850 - accuracy: 0.8627 - val_loss: 0.8540 - val_accuracy: 0.7660\n",
      "Epoch 20/50\n",
      "1250/1250 [==============================] - 5s 4ms/step - loss: 0.3800 - accuracy: 0.8643 - val_loss: 0.8587 - val_accuracy: 0.7605\n",
      "Epoch 21/50\n",
      "1250/1250 [==============================] - 5s 4ms/step - loss: 0.3739 - accuracy: 0.8675 - val_loss: 0.8820 - val_accuracy: 0.7574\n",
      "Epoch 22/50\n",
      "1250/1250 [==============================] - 5s 4ms/step - loss: 0.3769 - accuracy: 0.8670 - val_loss: 0.9261 - val_accuracy: 0.7501\n",
      "Epoch 23/50\n",
      "1250/1250 [==============================] - 5s 4ms/step - loss: 0.3718 - accuracy: 0.8682 - val_loss: 0.7784 - val_accuracy: 0.7757\n",
      "Epoch 24/50\n",
      "1250/1250 [==============================] - 5s 4ms/step - loss: 0.3655 - accuracy: 0.8691 - val_loss: 0.7964 - val_accuracy: 0.7770\n",
      "Epoch 25/50\n",
      "1250/1250 [==============================] - 5s 4ms/step - loss: 0.3614 - accuracy: 0.8720 - val_loss: 0.8307 - val_accuracy: 0.7722\n",
      "Epoch 26/50\n",
      "1250/1250 [==============================] - 5s 4ms/step - loss: 0.3603 - accuracy: 0.8707 - val_loss: 0.8704 - val_accuracy: 0.7674\n",
      "Epoch 27/50\n",
      "1250/1250 [==============================] - 5s 4ms/step - loss: 0.3539 - accuracy: 0.8740 - val_loss: 0.9154 - val_accuracy: 0.7605\n",
      "Epoch 28/50\n",
      "1250/1250 [==============================] - 5s 4ms/step - loss: 0.3546 - accuracy: 0.8737 - val_loss: 0.8692 - val_accuracy: 0.7620\n",
      "Epoch 29/50\n",
      "1250/1250 [==============================] - 5s 4ms/step - loss: 0.3524 - accuracy: 0.8739 - val_loss: 0.8106 - val_accuracy: 0.7791\n",
      "Epoch 30/50\n",
      "1250/1250 [==============================] - 5s 4ms/step - loss: 0.3474 - accuracy: 0.8760 - val_loss: 0.8380 - val_accuracy: 0.7744\n",
      "Epoch 31/50\n",
      "1250/1250 [==============================] - 5s 4ms/step - loss: 0.3480 - accuracy: 0.8760 - val_loss: 0.7896 - val_accuracy: 0.7809\n",
      "Epoch 32/50\n",
      "1250/1250 [==============================] - 5s 4ms/step - loss: 0.3474 - accuracy: 0.8747 - val_loss: 0.8800 - val_accuracy: 0.7622\n",
      "Epoch 33/50\n",
      "1250/1250 [==============================] - 5s 4ms/step - loss: 0.3480 - accuracy: 0.8751 - val_loss: 0.8539 - val_accuracy: 0.7689\n",
      "Epoch 34/50\n",
      "1250/1250 [==============================] - 5s 4ms/step - loss: 0.3430 - accuracy: 0.8770 - val_loss: 0.8586 - val_accuracy: 0.7682\n",
      "Epoch 35/50\n",
      "1250/1250 [==============================] - 5s 4ms/step - loss: 0.3454 - accuracy: 0.8788 - val_loss: 0.8826 - val_accuracy: 0.7618\n",
      "Epoch 36/50\n",
      "1250/1250 [==============================] - 5s 4ms/step - loss: 0.3369 - accuracy: 0.8785 - val_loss: 0.9811 - val_accuracy: 0.7480\n",
      "Epoch 37/50\n",
      "1250/1250 [==============================] - 5s 4ms/step - loss: 0.3324 - accuracy: 0.8795 - val_loss: 0.8843 - val_accuracy: 0.7659\n",
      "Epoch 38/50\n",
      "1250/1250 [==============================] - 5s 4ms/step - loss: 0.3425 - accuracy: 0.8782 - val_loss: 0.8452 - val_accuracy: 0.7756\n",
      "Epoch 39/50\n",
      "1250/1250 [==============================] - 5s 4ms/step - loss: 0.3341 - accuracy: 0.8802 - val_loss: 0.8820 - val_accuracy: 0.7560\n",
      "Epoch 40/50\n",
      "1250/1250 [==============================] - 5s 4ms/step - loss: 0.3292 - accuracy: 0.8826 - val_loss: 0.8823 - val_accuracy: 0.7663\n",
      "Epoch 41/50\n",
      "1250/1250 [==============================] - 5s 4ms/step - loss: 0.3275 - accuracy: 0.8828 - val_loss: 0.8876 - val_accuracy: 0.7636\n",
      "Epoch 42/50\n",
      "1250/1250 [==============================] - 5s 4ms/step - loss: 0.3275 - accuracy: 0.8836 - val_loss: 0.8920 - val_accuracy: 0.7608\n",
      "Epoch 43/50\n",
      "1250/1250 [==============================] - 5s 4ms/step - loss: 0.3247 - accuracy: 0.8846 - val_loss: 0.8027 - val_accuracy: 0.7821\n",
      "Epoch 44/50\n",
      "1250/1250 [==============================] - 5s 4ms/step - loss: 0.3312 - accuracy: 0.8835 - val_loss: 0.8869 - val_accuracy: 0.7674\n",
      "Epoch 45/50\n",
      "1250/1250 [==============================] - 5s 4ms/step - loss: 0.3292 - accuracy: 0.8841 - val_loss: 0.8519 - val_accuracy: 0.7660\n",
      "Epoch 46/50\n",
      "1250/1250 [==============================] - 5s 4ms/step - loss: 0.3212 - accuracy: 0.8857 - val_loss: 0.8936 - val_accuracy: 0.7685\n",
      "Epoch 47/50\n",
      "1250/1250 [==============================] - 5s 4ms/step - loss: 0.3214 - accuracy: 0.8842 - val_loss: 0.8518 - val_accuracy: 0.7698\n",
      "Epoch 48/50\n",
      "1250/1250 [==============================] - 5s 4ms/step - loss: 0.3205 - accuracy: 0.8872 - val_loss: 0.9298 - val_accuracy: 0.7525\n",
      "Epoch 49/50\n",
      "1250/1250 [==============================] - 5s 4ms/step - loss: 0.3234 - accuracy: 0.8823 - val_loss: 0.9166 - val_accuracy: 0.7601\n",
      "Epoch 50/50\n",
      "1250/1250 [==============================] - 5s 4ms/step - loss: 0.3174 - accuracy: 0.8864 - val_loss: 0.9197 - val_accuracy: 0.7614\n",
      "313/313 - 1s - loss: 0.9197 - accuracy: 0.7614\n",
      "The accuracy of my model is:  0.7613999843597412\n"
     ]
    },
    {
     "data": {
      "image/png": "[encoded data removed]",
      "text/plain": [
       "<Figure size 432x288 with 1 Axes>"
      ]
     },
     "metadata": {
      "needs_background": "light"
     },
     "output_type": "display_data"
    }
   ],
   "source": [
    "best_model_with_skip = tuner.get_best_models()[0]\n",
    "\n",
    "history = best_model_with_skip.fit(X_train, y_train, epochs=training_epochs, validation_data=(X_val,y_val))\n",
    "\n",
    "plt.plot(history.history['accuracy'], label='accuracy')\n",
    "plt.plot(history.history['val_accuracy'], label = 'val_accuracy')\n",
    "plt.xlabel('Epoch')\n",
    "plt.ylabel('Accuracy')\n",
    "plt.legend(loc='lower right')\n",
    "\n",
    "_, acc_with_skip = best_model_with_skip.evaluate(X_val,y_val, verbose=2)\n",
    "print(\"The accuracy of my model is: \",acc_with_skip)"
   ]
  },
  {
   "cell_type": "markdown",
   "id": "9c1932cc",
   "metadata": {
    "id": "9c1932cc",
    "papermill": {
     "duration": 1.624505,
     "end_time": "2022-05-13T17:15:46.972819",
     "exception": false,
     "start_time": "2022-05-13T17:15:45.348314",
     "status": "completed"
    },
    "tags": [],
    "pycharm": {
     "name": "#%% md\n"
    }
   },
   "source": [
    "### Model Selection with Keras Tuner (without skipping connection)"
   ]
  },
  {
   "cell_type": "code",
   "execution_count": null,
   "id": "d8894a59",
   "metadata": {
    "execution": {
     "iopub.execute_input": "2022-05-13T17:15:49.814071Z",
     "iopub.status.busy": "2022-05-13T17:15:49.813810Z",
     "iopub.status.idle": "2022-05-13T17:15:49.825230Z",
     "shell.execute_reply": "2022-05-13T17:15:49.824583Z"
    },
    "id": "d8894a59",
    "papermill": {
     "duration": 1.352368,
     "end_time": "2022-05-13T17:15:49.826881",
     "exception": false,
     "start_time": "2022-05-13T17:15:48.474513",
     "status": "completed"
    },
    "tags": [],
    "pycharm": {
     "name": "#%%\n"
    }
   },
   "outputs": [],
   "source": [
    "def model_hypothesis(hp):\n",
    "    model = tf.keras.Sequential([\n",
    "        # Layer 1:                        \n",
    "        Conv2D(\n",
    "            filters=hp.Int('conv_1_filter', min_value=48, max_value=128, step=16),\n",
    "            kernel_size=hp.Choice('conv_1_kernel', values = [3,5,8]),\n",
    "            activation=f_act,\n",
    "            input_shape=(32,32,3)),\n",
    "        BatchNormalization(),\n",
    "        MaxPooling2D((2, 2)),\n",
    "\n",
    "        Dropout(rate = hp.Choice('dropout_1_rate', values = [0.1,0.2,0.5])),\n",
    "\n",
    "        # Layer 2:\n",
    "        Conv2D(\n",
    "            filters=hp.Int('conv_2_filter', min_value=16, max_value=128, step=16),\n",
    "            kernel_size=hp.Choice('conv_2_kernel', values = [1,3]),\n",
    "            activation=f_act,\n",
    "            input_shape=(32,32,3)),\n",
    "        BatchNormalization(),\n",
    "        layers.MaxPooling2D((2, 2)),\n",
    "\n",
    "        Dropout(rate = hp.Choice('dropout_2_rate', values = [0.1,0.2,0.5])),\n",
    "\n",
    "        # Layer 3:\n",
    "        Conv2D(\n",
    "            filters=hp.Int('conv_3_filter', min_value=8, max_value=128, step=16),\n",
    "            kernel_size=hp.Choice('conv_3_kernel', values = [1,3]),\n",
    "            activation=f_act,\n",
    "            input_shape=(32,32,3)),\n",
    "        BatchNormalization(),\n",
    "        MaxPooling2D((2, 2)),\n",
    "\n",
    "        Dropout(rate = hp.Choice('dropout_3_rate', values = [0.1,0.2,0.5])),\n",
    "\n",
    "        Flatten(),\n",
    "        Dense(\n",
    "            units=hp.Int('dense_1_units', min_value=16, max_value=128, step=16),\n",
    "            activation='relu'\n",
    "        ),\n",
    "\n",
    "        # Output\n",
    "        Dense(10, activation=\"softmax\")\n",
    "    ])\n",
    "\n",
    "    model.compile(optimizer=\"adam\", loss=theLoss, metrics=['accuracy'])\n",
    "    return model"
   ]
  },
  {
   "cell_type": "code",
   "execution_count": null,
   "id": "e8f29466",
   "metadata": {
    "execution": {
     "iopub.execute_input": "2022-05-13T17:15:52.574110Z",
     "iopub.status.busy": "2022-05-13T17:15:52.573855Z",
     "iopub.status.idle": "2022-05-13T17:40:47.342177Z",
     "shell.execute_reply": "2022-05-13T17:40:47.341439Z"
    },
    "id": "e8f29466",
    "outputId": "0cb16854-2d86-419a-a7ae-9dd5d96f9283",
    "papermill": {
     "duration": 1497.516625,
     "end_time": "2022-05-13T17:40:48.665394",
     "exception": false,
     "start_time": "2022-05-13T17:15:51.148769",
     "status": "completed"
    },
    "tags": [],
    "pycharm": {
     "name": "#%%\n"
    }
   },
   "outputs": [
    {
     "name": "stdout",
     "output_type": "stream",
     "text": [
      "Trial 6 Complete [00h 04m 24s]\n",
      "val_accuracy: 0.765250027179718\n",
      "\n",
      "Best val_accuracy So Far: 0.7733749747276306\n",
      "Total elapsed time: 00h 24m 54s\n"
     ]
    }
   ],
   "source": [
    "!!rm -rf keras_tuner_folder_noskip\n",
    "\n",
    "tuner = kt.RandomSearch(model_skip_connection_hypothesis,\n",
    "                    objective='val_accuracy',\n",
    "                    max_trials = random_search_trial,\n",
    "                    directory='keras_tuner_folder_noskip',\n",
    "                    project_name='midterm3')\n",
    "\n",
    "tuner.search(X_train, y_train, epochs=training_epochs, validation_split=0.2)\n",
    "\n",
    "best_hps=tuner.get_best_hyperparameters(num_trials=1)[0]"
   ]
  },
  {
   "cell_type": "code",
   "execution_count": null,
   "id": "12347641",
   "metadata": {
    "execution": {
     "iopub.execute_input": "2022-05-13T17:40:51.338260Z",
     "iopub.status.busy": "2022-05-13T17:40:51.337990Z",
     "iopub.status.idle": "2022-05-13T17:45:56.635700Z",
     "shell.execute_reply": "2022-05-13T17:45:56.635064Z"
    },
    "id": "12347641",
    "papermill": {
     "duration": 306.632818,
     "end_time": "2022-05-13T17:45:56.637548",
     "exception": false,
     "start_time": "2022-05-13T17:40:50.004730",
     "status": "completed"
    },
    "tags": [],
    "outputId": "df608c40-45b5-4b1a-f518-30bcbf0fb280",
    "pycharm": {
     "name": "#%%\n"
    }
   },
   "outputs": [
    {
     "name": "stdout",
     "output_type": "stream",
     "text": [
      "Epoch 1/50\n",
      "1250/1250 [==============================] - 7s 5ms/step - loss: 0.3799 - accuracy: 0.8802 - val_loss: 0.7865 - val_accuracy: 0.7703\n",
      "Epoch 2/50\n",
      "1250/1250 [==============================] - 6s 5ms/step - loss: 0.3331 - accuracy: 0.8884 - val_loss: 0.8002 - val_accuracy: 0.7660\n",
      "Epoch 3/50\n",
      "1250/1250 [==============================] - 6s 5ms/step - loss: 0.3267 - accuracy: 0.8905 - val_loss: 0.7928 - val_accuracy: 0.7686\n",
      "Epoch 4/50\n",
      "1250/1250 [==============================] - 6s 5ms/step - loss: 0.3082 - accuracy: 0.8948 - val_loss: 0.9045 - val_accuracy: 0.7478\n",
      "Epoch 5/50\n",
      "1250/1250 [==============================] - 6s 5ms/step - loss: 0.3005 - accuracy: 0.8964 - val_loss: 0.9318 - val_accuracy: 0.7322\n",
      "Epoch 6/50\n",
      "1250/1250 [==============================] - 6s 5ms/step - loss: 0.2950 - accuracy: 0.8968 - val_loss: 0.8196 - val_accuracy: 0.7669\n",
      "Epoch 7/50\n",
      "1250/1250 [==============================] - 6s 5ms/step - loss: 0.2863 - accuracy: 0.8991 - val_loss: 0.8341 - val_accuracy: 0.7597\n",
      "Epoch 8/50\n",
      "1250/1250 [==============================] - 6s 5ms/step - loss: 0.2795 - accuracy: 0.9036 - val_loss: 0.8091 - val_accuracy: 0.7726\n",
      "Epoch 9/50\n",
      "1250/1250 [==============================] - 6s 5ms/step - loss: 0.2706 - accuracy: 0.9034 - val_loss: 0.8697 - val_accuracy: 0.7648\n",
      "Epoch 10/50\n",
      "1250/1250 [==============================] - 6s 5ms/step - loss: 0.2738 - accuracy: 0.9026 - val_loss: 0.8406 - val_accuracy: 0.7666\n",
      "Epoch 11/50\n",
      "1250/1250 [==============================] - 7s 5ms/step - loss: 0.2686 - accuracy: 0.9041 - val_loss: 0.9160 - val_accuracy: 0.7535\n",
      "Epoch 12/50\n",
      "1250/1250 [==============================] - 6s 5ms/step - loss: 0.2584 - accuracy: 0.9087 - val_loss: 0.8062 - val_accuracy: 0.7807\n",
      "Epoch 13/50\n",
      "1250/1250 [==============================] - 6s 5ms/step - loss: 0.2591 - accuracy: 0.9085 - val_loss: 0.8318 - val_accuracy: 0.7698\n",
      "Epoch 14/50\n",
      "1250/1250 [==============================] - 6s 5ms/step - loss: 0.2562 - accuracy: 0.9096 - val_loss: 0.8063 - val_accuracy: 0.7749\n",
      "Epoch 15/50\n",
      "1250/1250 [==============================] - 6s 5ms/step - loss: 0.2482 - accuracy: 0.9136 - val_loss: 0.9877 - val_accuracy: 0.7553\n",
      "Epoch 16/50\n",
      "1250/1250 [==============================] - 6s 5ms/step - loss: 0.2421 - accuracy: 0.9134 - val_loss: 0.8507 - val_accuracy: 0.7676\n",
      "Epoch 17/50\n",
      "1250/1250 [==============================] - 7s 5ms/step - loss: 0.2446 - accuracy: 0.9135 - val_loss: 0.8811 - val_accuracy: 0.7669\n",
      "Epoch 18/50\n",
      "1250/1250 [==============================] - 6s 5ms/step - loss: 0.2347 - accuracy: 0.9183 - val_loss: 0.8505 - val_accuracy: 0.7735\n",
      "Epoch 19/50\n",
      "1250/1250 [==============================] - 6s 5ms/step - loss: 0.2397 - accuracy: 0.9152 - val_loss: 0.8310 - val_accuracy: 0.7709\n",
      "Epoch 20/50\n",
      "1250/1250 [==============================] - 6s 5ms/step - loss: 0.2387 - accuracy: 0.9155 - val_loss: 0.8463 - val_accuracy: 0.7704\n",
      "Epoch 21/50\n",
      "1250/1250 [==============================] - 6s 5ms/step - loss: 0.2366 - accuracy: 0.9154 - val_loss: 1.0172 - val_accuracy: 0.7436\n",
      "Epoch 22/50\n",
      "1250/1250 [==============================] - 7s 6ms/step - loss: 0.2331 - accuracy: 0.9190 - val_loss: 0.8502 - val_accuracy: 0.7799\n",
      "Epoch 23/50\n",
      "1250/1250 [==============================] - 6s 5ms/step - loss: 0.2291 - accuracy: 0.9198 - val_loss: 0.9296 - val_accuracy: 0.7509\n",
      "Epoch 24/50\n",
      "1250/1250 [==============================] - 6s 5ms/step - loss: 0.2219 - accuracy: 0.9218 - val_loss: 0.9327 - val_accuracy: 0.7644\n",
      "Epoch 25/50\n",
      "1250/1250 [==============================] - 6s 5ms/step - loss: 0.2267 - accuracy: 0.9206 - val_loss: 0.8845 - val_accuracy: 0.7714\n",
      "Epoch 26/50\n",
      "1250/1250 [==============================] - 6s 5ms/step - loss: 0.2213 - accuracy: 0.9216 - val_loss: 0.9380 - val_accuracy: 0.7660\n",
      "Epoch 27/50\n",
      "1250/1250 [==============================] - 6s 5ms/step - loss: 0.2229 - accuracy: 0.9208 - val_loss: 0.8829 - val_accuracy: 0.7663\n",
      "Epoch 28/50\n",
      "1250/1250 [==============================] - 8s 6ms/step - loss: 0.2147 - accuracy: 0.9228 - val_loss: 0.8743 - val_accuracy: 0.7741\n",
      "Epoch 29/50\n",
      "1250/1250 [==============================] - 6s 5ms/step - loss: 0.2192 - accuracy: 0.9208 - val_loss: 0.8661 - val_accuracy: 0.7780\n",
      "Epoch 30/50\n",
      "1250/1250 [==============================] - 6s 5ms/step - loss: 0.2128 - accuracy: 0.9252 - val_loss: 0.8512 - val_accuracy: 0.7833\n",
      "Epoch 31/50\n",
      "1250/1250 [==============================] - 6s 5ms/step - loss: 0.2126 - accuracy: 0.9245 - val_loss: 0.9222 - val_accuracy: 0.7656\n",
      "Epoch 32/50\n",
      "1250/1250 [==============================] - 6s 5ms/step - loss: 0.2090 - accuracy: 0.9251 - val_loss: 0.8410 - val_accuracy: 0.7824\n",
      "Epoch 33/50\n",
      "1250/1250 [==============================] - 6s 5ms/step - loss: 0.2043 - accuracy: 0.9271 - val_loss: 0.9274 - val_accuracy: 0.7724\n",
      "Epoch 34/50\n",
      "1250/1250 [==============================] - 7s 5ms/step - loss: 0.2037 - accuracy: 0.9270 - val_loss: 0.9150 - val_accuracy: 0.7715\n",
      "Epoch 35/50\n",
      "1250/1250 [==============================] - 6s 5ms/step - loss: 0.2070 - accuracy: 0.9257 - val_loss: 0.8647 - val_accuracy: 0.7818\n",
      "Epoch 36/50\n",
      "1250/1250 [==============================] - 6s 5ms/step - loss: 0.2055 - accuracy: 0.9264 - val_loss: 1.0021 - val_accuracy: 0.7628\n",
      "Epoch 37/50\n",
      "1250/1250 [==============================] - 6s 5ms/step - loss: 0.2051 - accuracy: 0.9264 - val_loss: 0.9279 - val_accuracy: 0.7790\n",
      "Epoch 38/50\n",
      "1250/1250 [==============================] - 6s 5ms/step - loss: 0.1992 - accuracy: 0.9276 - val_loss: 0.9002 - val_accuracy: 0.7788\n",
      "Epoch 39/50\n",
      "1250/1250 [==============================] - 7s 5ms/step - loss: 0.2014 - accuracy: 0.9281 - val_loss: 0.8453 - val_accuracy: 0.7826\n",
      "Epoch 40/50\n",
      "1250/1250 [==============================] - 6s 5ms/step - loss: 0.1987 - accuracy: 0.9287 - val_loss: 0.8531 - val_accuracy: 0.7898\n",
      "Epoch 41/50\n",
      "1250/1250 [==============================] - 6s 5ms/step - loss: 0.2031 - accuracy: 0.9269 - val_loss: 0.8765 - val_accuracy: 0.7810\n",
      "Epoch 42/50\n",
      "1250/1250 [==============================] - 6s 5ms/step - loss: 0.1972 - accuracy: 0.9297 - val_loss: 0.8632 - val_accuracy: 0.7807\n",
      "Epoch 43/50\n",
      "1250/1250 [==============================] - 6s 5ms/step - loss: 0.1980 - accuracy: 0.9288 - val_loss: 0.8618 - val_accuracy: 0.7867\n",
      "Epoch 44/50\n",
      "1250/1250 [==============================] - 7s 6ms/step - loss: 0.1947 - accuracy: 0.9313 - val_loss: 0.9849 - val_accuracy: 0.7550\n",
      "Epoch 45/50\n",
      "1250/1250 [==============================] - 6s 5ms/step - loss: 0.1924 - accuracy: 0.9309 - val_loss: 0.8795 - val_accuracy: 0.7871\n",
      "Epoch 46/50\n",
      "1250/1250 [==============================] - 6s 5ms/step - loss: 0.1919 - accuracy: 0.9317 - val_loss: 0.8976 - val_accuracy: 0.7791\n",
      "Epoch 47/50\n",
      "1250/1250 [==============================] - 6s 5ms/step - loss: 0.1931 - accuracy: 0.9320 - val_loss: 0.9107 - val_accuracy: 0.7700\n",
      "Epoch 48/50\n",
      "1250/1250 [==============================] - 6s 5ms/step - loss: 0.1883 - accuracy: 0.9332 - val_loss: 0.8936 - val_accuracy: 0.7821\n",
      "Epoch 49/50\n",
      "1250/1250 [==============================] - 6s 5ms/step - loss: 0.1842 - accuracy: 0.9340 - val_loss: 0.9458 - val_accuracy: 0.7660\n",
      "Epoch 50/50\n",
      "1250/1250 [==============================] - 6s 5ms/step - loss: 0.1894 - accuracy: 0.9327 - val_loss: 0.8930 - val_accuracy: 0.7801\n",
      "313/313 - 1s - loss: 0.8930 - accuracy: 0.7801\n",
      "The accuracy of my model is:  0.7800999879837036\n"
     ]
    },
    {
     "data": {
      "image/png": "[encoded data removed]",
      "text/plain": [
       "<Figure size 432x288 with 1 Axes>"
      ]
     },
     "metadata": {
      "needs_background": "light"
     },
     "output_type": "display_data"
    }
   ],
   "source": [
    "best_model_without_skip = tuner.get_best_models()[0]\n",
    "\n",
    "history = best_model_without_skip.fit(X_train, y_train, epochs=training_epochs, validation_data=(X_val,y_val))\n",
    "\n",
    "plt.plot(history.history['accuracy'], label='accuracy')\n",
    "plt.plot(history.history['val_accuracy'], label = 'val_accuracy')\n",
    "plt.xlabel('Epoch')\n",
    "plt.ylabel('Accuracy')\n",
    "plt.legend(loc='lower right')\n",
    "\n",
    "_, acc_without_skip = best_model_without_skip.evaluate(X_val, y_val, verbose=2)\n",
    "print(\"The accuracy of my model is: \",acc_without_skip)"
   ]
  },
  {
   "cell_type": "markdown",
   "id": "6760057b",
   "metadata": {
    "id": "6760057b",
    "papermill": {
     "duration": 3.200771,
     "end_time": "2022-05-13T17:46:02.796138",
     "exception": false,
     "start_time": "2022-05-13T17:45:59.595367",
     "status": "completed"
    },
    "tags": [],
    "pycharm": {
     "name": "#%% md\n"
    }
   },
   "source": [
    "## Final Model"
   ]
  },
  {
   "cell_type": "code",
   "execution_count": null,
   "id": "4f8ce353",
   "metadata": {
    "execution": {
     "iopub.execute_input": "2022-05-13T17:46:08.809607Z",
     "iopub.status.busy": "2022-05-13T17:46:08.809343Z",
     "iopub.status.idle": "2022-05-13T17:46:08.822214Z",
     "shell.execute_reply": "2022-05-13T17:46:08.821383Z"
    },
    "id": "4f8ce353",
    "papermill": {
     "duration": 2.897115,
     "end_time": "2022-05-13T17:46:08.824601",
     "exception": false,
     "start_time": "2022-05-13T17:46:05.927486",
     "status": "completed"
    },
    "tags": [],
    "outputId": "e04eb182-bc98-4c89-8162-756955e87569",
    "pycharm": {
     "name": "#%%\n"
    }
   },
   "outputs": [
    {
     "name": "stdout",
     "output_type": "stream",
     "text": [
      "Model: \"model\"\n",
      "_________________________________________________________________\n",
      "Layer (type)                 Output Shape              Param #   \n",
      "=================================================================\n",
      "input_1 (InputLayer)         [(None, 32, 32, 3)]       0         \n",
      "_________________________________________________________________\n",
      "conv2d (Conv2D)              (None, 30, 30, 116)       3248      \n",
      "_________________________________________________________________\n",
      "batch_normalization (BatchNo (None, 30, 30, 116)       464       \n",
      "_________________________________________________________________\n",
      "max_pooling2d (MaxPooling2D) (None, 15, 15, 116)       0         \n",
      "_________________________________________________________________\n",
      "dropout (Dropout)            (None, 15, 15, 116)       0         \n",
      "_________________________________________________________________\n",
      "conv2d_1 (Conv2D)            (None, 14, 14, 116)       53940     \n",
      "_________________________________________________________________\n",
      "batch_normalization_1 (Batch (None, 14, 14, 116)       464       \n",
      "_________________________________________________________________\n",
      "max_pooling2d_1 (MaxPooling2 (None, 7, 7, 116)         0         \n",
      "_________________________________________________________________\n",
      "dropout_1 (Dropout)          (None, 7, 7, 116)         0         \n",
      "_________________________________________________________________\n",
      "conv2d_2 (Conv2D)            (None, 6, 6, 124)         57660     \n",
      "_________________________________________________________________\n",
      "batch_normalization_2 (Batch (None, 6, 6, 124)         496       \n",
      "_________________________________________________________________\n",
      "max_pooling2d_2 (MaxPooling2 (None, 3, 3, 124)         0         \n",
      "_________________________________________________________________\n",
      "dropout_2 (Dropout)          (None, 3, 3, 124)         0         \n",
      "_________________________________________________________________\n",
      "flatten (Flatten)            (None, 1116)              0         \n",
      "_________________________________________________________________\n",
      "dense (Dense)                (None, 36)                40212     \n",
      "_________________________________________________________________\n",
      "dense_1 (Dense)              (None, 10)                370       \n",
      "=================================================================\n",
      "Total params: 156,854\n",
      "Trainable params: 156,142\n",
      "Non-trainable params: 712\n",
      "_________________________________________________________________\n",
      "None\n"
     ]
    }
   ],
   "source": [
    "if acc_without_skip>acc_with_skip:\n",
    "    model = best_model_without_skip\n",
    "    accuracy = acc_without_skip\n",
    "else:\n",
    "    model = best_model_with_skip\n",
    "    accuracy = acc_with_skip\n",
    "\n",
    "print(model.summary())"
   ]
  },
  {
   "cell_type": "markdown",
   "id": "adbce814",
   "metadata": {
    "id": "adbce814",
    "papermill": {
     "duration": 3.214869,
     "end_time": "2022-05-13T17:46:14.932807",
     "exception": false,
     "start_time": "2022-05-13T17:46:11.717938",
     "status": "completed"
    },
    "tags": [],
    "pycharm": {
     "name": "#%% md\n"
    }
   },
   "source": [
    "# Phase 2 - Adversarial attack (FGSM)\n",
    "\n",
    "CNNs, in general, perform well on several tasks in the computer vision domain.\n",
    "\n",
    "However, some attacks can confuse these architectures. Let's take a look at the Fast Gradient Sign Method.\n",
    "\n",
    "This attack involves the creation of a specific kernel for each image; the output image resulting from the application of this kernel is an image very similar to the original image for a human eye, but completely different when classified by a CNN. \n",
    "\n",
    "To accomplish this an FGSM attack performs the gradient of the loss (which in our case is a Sparse Categorical Cross Entropy) with respect to the input image and then uses the sign of this gradient to generate a new image that maximizes the loss function."
   ]
  },
  {
   "cell_type": "code",
   "execution_count": null,
   "id": "7376325a",
   "metadata": {
    "execution": {
     "iopub.execute_input": "2022-05-13T17:46:20.776628Z",
     "iopub.status.busy": "2022-05-13T17:46:20.776368Z",
     "iopub.status.idle": "2022-05-13T17:46:21.357448Z",
     "shell.execute_reply": "2022-05-13T17:46:21.356779Z"
    },
    "id": "7376325a",
    "papermill": {
     "duration": 3.523775,
     "end_time": "2022-05-13T17:46:21.359397",
     "exception": false,
     "start_time": "2022-05-13T17:46:17.835622",
     "status": "completed"
    },
    "tags": [],
    "outputId": "49dc12d8-f179-4fdf-c043-f60044bc0583",
    "pycharm": {
     "name": "#%%\n"
    }
   },
   "outputs": [
    {
     "data": {
      "image/png": "[encoded data removed]",
      "text/plain": [
       "<Figure size 1080x1152 with 3 Axes>"
      ]
     },
     "metadata": {
      "needs_background": "light"
     },
     "output_type": "display_data"
    }
   ],
   "source": [
    "index = 2816\n",
    "original_image  = X_train[index]\n",
    "original_label = labels[y_train[index][0]]\n",
    "\n",
    "epsilon = 0.015\n",
    "\n",
    "reshaped_original_image = tf.convert_to_tensor(original_image.reshape((1,32,32,3)))\n",
    "adv_image = fast_gradient_method(model, reshaped_original_image, epsilon, np.inf, targeted=False)\n",
    "\n",
    "output_distribution = model.predict(adv_image)\n",
    "adv_output = np.argmax(output_distribution)\n",
    "adv_output_label = labels[adv_output]\n",
    "\n",
    "adv_image = np.reshape(adv_image, (32,32,3))\n",
    "adv_kernel = adv_image-original_image\n",
    "\n",
    "show_imgs([original_image, adv_image, adv_kernel], [\"Original: \"+str(original_label), \"Adv attacked: \"+ str(adv_output_label),\" Adv Kernel\"])"
   ]
  },
  {
   "cell_type": "markdown",
   "id": "bdf1da75",
   "metadata": {
    "id": "bdf1da75",
    "papermill": {
     "duration": 2.895276,
     "end_time": "2022-05-13T17:46:28.078048",
     "exception": false,
     "start_time": "2022-05-13T17:46:25.182772",
     "status": "completed"
    },
    "tags": [],
    "pycharm": {
     "name": "#%% md\n"
    }
   },
   "source": [
    "## Let’s confuse the model"
   ]
  },
  {
   "cell_type": "markdown",
   "id": "77c3cc71",
   "metadata": {
    "id": "77c3cc71",
    "papermill": {
     "duration": 2.979444,
     "end_time": "2022-05-13T17:46:33.960264",
     "exception": false,
     "start_time": "2022-05-13T17:46:30.980820",
     "status": "completed"
    },
    "tags": [],
    "pycharm": {
     "name": "#%% md\n"
    }
   },
   "source": [
    "We can now apply this technique to every image in the test set. We will then go on to see how the accuracy is reduced if we test our model on a dataset on which we have performed the attack (adv_X_test) compared to the original test set (X_test)."
   ]
  },
  {
   "cell_type": "code",
   "execution_count": null,
   "id": "7704ae82",
   "metadata": {
    "execution": {
     "iopub.execute_input": "2022-05-13T17:46:40.000263Z",
     "iopub.status.busy": "2022-05-13T17:46:39.999977Z",
     "iopub.status.idle": "2022-05-13T17:47:44.791854Z",
     "shell.execute_reply": "2022-05-13T17:47:44.791129Z"
    },
    "id": "7704ae82",
    "papermill": {
     "duration": 67.683969,
     "end_time": "2022-05-13T17:47:44.794101",
     "exception": false,
     "start_time": "2022-05-13T17:46:37.110132",
     "status": "completed"
    },
    "tags": [],
    "pycharm": {
     "name": "#%%\n"
    }
   },
   "outputs": [],
   "source": [
    "adv_X_test = list()\n",
    "adv_y_test = list()\n",
    "\n",
    "for x,y in zip(X_test, y_test):\n",
    "   adv_y_test.append(y)\n",
    "\n",
    "   reshaped_original_image = tf.convert_to_tensor(x.reshape((1,32,32,3)))\n",
    "   adv_image = fast_gradient_method(model, reshaped_original_image, epsilon, np.inf, targeted=False)\n",
    "   adv_image = np.reshape(adv_image, (32,32,3))\n",
    "   adv_X_test.append(adv_image)"
   ]
  },
  {
   "cell_type": "code",
   "execution_count": null,
   "id": "52893cd3",
   "metadata": {
    "execution": {
     "iopub.execute_input": "2022-05-13T17:47:50.608935Z",
     "iopub.status.busy": "2022-05-13T17:47:50.608672Z",
     "iopub.status.idle": "2022-05-13T17:50:14.707251Z",
     "shell.execute_reply": "2022-05-13T17:50:14.706340Z"
    },
    "id": "52893cd3",
    "papermill": {
     "duration": 150.476621,
     "end_time": "2022-05-13T17:50:18.204947",
     "exception": false,
     "start_time": "2022-05-13T17:47:47.728326",
     "status": "completed"
    },
    "tags": [],
    "outputId": "320eef7f-3c3e-4b19-e6ae-622db291abf9",
    "pycharm": {
     "name": "#%%\n"
    }
   },
   "outputs": [
    {
     "name": "stdout",
     "output_type": "stream",
     "text": [
      "Epoch 1/15\n",
      "1250/1250 [==============================] - 7s 5ms/step - loss: 0.1872 - accuracy: 0.9332 - val_loss: 0.9093 - val_accuracy: 0.7839\n",
      "Epoch 2/15\n",
      "1250/1250 [==============================] - 6s 5ms/step - loss: 0.1817 - accuracy: 0.9343 - val_loss: 1.0190 - val_accuracy: 0.7625\n",
      "Epoch 3/15\n",
      "1250/1250 [==============================] - 6s 5ms/step - loss: 0.1813 - accuracy: 0.9358 - val_loss: 0.9019 - val_accuracy: 0.7839\n",
      "Epoch 4/15\n",
      "1250/1250 [==============================] - 6s 5ms/step - loss: 0.1783 - accuracy: 0.9361 - val_loss: 0.8882 - val_accuracy: 0.7820\n",
      "Epoch 5/15\n",
      "1250/1250 [==============================] - 6s 5ms/step - loss: 0.1800 - accuracy: 0.9365 - val_loss: 1.1709 - val_accuracy: 0.7480\n",
      "Epoch 6/15\n",
      "1250/1250 [==============================] - 7s 5ms/step - loss: 0.1825 - accuracy: 0.9355 - val_loss: 0.9199 - val_accuracy: 0.7826\n",
      "Epoch 7/15\n",
      "1250/1250 [==============================] - 6s 5ms/step - loss: 0.1734 - accuracy: 0.9378 - val_loss: 0.9908 - val_accuracy: 0.7703\n",
      "Epoch 8/15\n",
      "1250/1250 [==============================] - 6s 5ms/step - loss: 0.1733 - accuracy: 0.9383 - val_loss: 0.9236 - val_accuracy: 0.7756\n",
      "Epoch 9/15\n",
      "1250/1250 [==============================] - 6s 5ms/step - loss: 0.1773 - accuracy: 0.9374 - val_loss: 0.9110 - val_accuracy: 0.7809\n",
      "Epoch 10/15\n",
      "1250/1250 [==============================] - 6s 5ms/step - loss: 0.1743 - accuracy: 0.9371 - val_loss: 0.8753 - val_accuracy: 0.7902\n",
      "Epoch 11/15\n",
      "1250/1250 [==============================] - 6s 5ms/step - loss: 0.1777 - accuracy: 0.9370 - val_loss: 0.8846 - val_accuracy: 0.7805\n",
      "Epoch 12/15\n",
      "1250/1250 [==============================] - 7s 5ms/step - loss: 0.1718 - accuracy: 0.9384 - val_loss: 0.9500 - val_accuracy: 0.7769\n",
      "Epoch 13/15\n",
      "1250/1250 [==============================] - 6s 5ms/step - loss: 0.1710 - accuracy: 0.9394 - val_loss: 0.8740 - val_accuracy: 0.7906\n",
      "Epoch 14/15\n",
      "1250/1250 [==============================] - 6s 5ms/step - loss: 0.1754 - accuracy: 0.9384 - val_loss: 0.9099 - val_accuracy: 0.7809\n",
      "Epoch 15/15\n",
      "1250/1250 [==============================] - 6s 5ms/step - loss: 0.1735 - accuracy: 0.9386 - val_loss: 1.0004 - val_accuracy: 0.7690\n"
     ]
    },
    {
     "data": {
      "text/plain": [
       "<matplotlib.legend.Legend at 0x7fccec079b50>"
      ]
     },
     "execution_count": 17,
     "metadata": {},
     "output_type": "execute_result"
    },
    {
     "data": {
      "image/png": "[encoded data removed]",
      "text/plain": [
       "<Figure size 432x288 with 1 Axes>"
      ]
     },
     "metadata": {
      "needs_background": "light"
     },
     "output_type": "display_data"
    }
   ],
   "source": [
    "model.compile(optimizer='adam', loss=theLoss, metrics=['accuracy'])\n",
    "\n",
    "history = model.fit(X_train, y_train, epochs=15, validation_data=(X_val, y_val))\n",
    "\n",
    "plt.plot(history.history['accuracy'], label='accuracy')\n",
    "plt.plot(history.history['val_accuracy'], label = 'val_accuracy')\n",
    "plt.xlabel('Epoch')\n",
    "plt.ylabel('Accuracy')\n",
    "plt.legend(loc='lower right')"
   ]
  },
  {
   "cell_type": "code",
   "execution_count": null,
   "id": "34b03a2c",
   "metadata": {
    "execution": {
     "iopub.execute_input": "2022-05-13T17:50:25.207059Z",
     "iopub.status.busy": "2022-05-13T17:50:25.206726Z",
     "iopub.status.idle": "2022-05-13T17:50:27.926868Z",
     "shell.execute_reply": "2022-05-13T17:50:27.925948Z"
    },
    "id": "34b03a2c",
    "papermill": {
     "duration": 6.230393,
     "end_time": "2022-05-13T17:50:27.929140",
     "exception": false,
     "start_time": "2022-05-13T17:50:21.698747",
     "status": "completed"
    },
    "tags": [],
    "outputId": "9c63a94e-4ce0-4ff6-ca0b-dfdc3043d0ac",
    "pycharm": {
     "name": "#%%\n"
    }
   },
   "outputs": [
    {
     "name": "stdout",
     "output_type": "stream",
     "text": [
      "before we had an accuracy of  0.7712000012397766 ; after performing the attack we get  0.3091999888420105\n"
     ]
    }
   ],
   "source": [
    "_, accuracy = model.evaluate(np.array(X_test), np.array(y_test), verbose=0)\n",
    "_, test_acc = model.evaluate(np.array(adv_X_test), np.array(adv_y_test), verbose=0)\n",
    "print(\"before we had an accuracy of \",accuracy, \"; after performing the attack we get \",test_acc)"
   ]
  },
  {
   "cell_type": "markdown",
   "id": "19edc1b0",
   "metadata": {
    "id": "19edc1b0",
    "papermill": {
     "duration": 3.445288,
     "end_time": "2022-05-13T17:50:34.763073",
     "exception": false,
     "start_time": "2022-05-13T17:50:31.317785",
     "status": "completed"
    },
    "tags": [],
    "pycharm": {
     "name": "#%% md\n"
    }
   },
   "source": [
    "# Finals observations"
   ]
  },
  {
   "cell_type": "markdown",
   "id": "8d0270c7",
   "metadata": {
    "id": "8d0270c7",
    "papermill": {
     "duration": 3.354186,
     "end_time": "2022-05-13T17:50:41.800440",
     "exception": false,
     "start_time": "2022-05-13T17:50:38.446254",
     "status": "completed"
    },
    "tags": [],
    "pycharm": {
     "name": "#%% md\n"
    }
   },
   "source": [
    "A weak aspect to highlight is the choice of the epsilon parameter. I chose it empirically, just to dimostrate how this attack works.\n",
    "\n",
    "Another point to note, in my opinion, is how artificial and unlikely this attack is in production contexts, although it does demonstrate a possible leak in CNNs.\n",
    "\n",
    "Personally, I also learned a lot from this midterm about model selection, having to carefully choose the correct parameters for Random Search."
   ]
  }
 ],
 "metadata": {
  "kernelspec": {
   "display_name": "Python 3",
   "language": "python",
   "name": "python3"
  },
  "language_info": {
   "codemirror_mode": {
    "name": "ipython",
    "version": 3
   },
   "file_extension": ".py",
   "mimetype": "text/x-python",
   "name": "python",
   "nbconvert_exporter": "python",
   "pygments_lexer": "ipython3",
   "version": "3.7.12"
  },
  "papermill": {
   "default_parameters": {},
   "duration": 3895.802546,
   "end_time": "2022-05-13T17:50:48.938266",
   "environment_variables": {},
   "exception": null,
   "input_path": "__notebook__.ipynb",
   "output_path": "__notebook__.ipynb",
   "parameters": {},
   "start_time": "2022-05-13T16:45:53.135720",
   "version": "2.3.4"
  },
  "colab": {
   "name": "Midterm3-Acciaro-GennaroDaniele.ipynb",
   "provenance": []
  }
 },
 "nbformat": 4,
 "nbformat_minor": 5
}